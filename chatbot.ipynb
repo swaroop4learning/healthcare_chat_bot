{
 "cells": [
  {
   "cell_type": "code",
   "execution_count": 71,
   "metadata": {},
   "outputs": [],
   "source": [
    "import nltk\n",
    "import pandas as pd\n",
    "from sklearn.feature_extraction.text import CountVectorizer\n",
    "from sklearn.feature_extraction.text import TfidfVectorizer\n",
    "from nltk.corpus import stopwords\n",
    "from fuzzywuzzy import process\n",
    "import spacy"
   ]
  },
  {
   "cell_type": "code",
   "execution_count": 2,
   "metadata": {},
   "outputs": [],
   "source": [
    "inp_data = pd.read_json(\"intents.json\")"
   ]
  },
  {
   "cell_type": "code",
   "execution_count": 3,
   "metadata": {},
   "outputs": [
    {
     "data": {
      "text/html": [
       "<div>\n",
       "<style scoped>\n",
       "    .dataframe tbody tr th:only-of-type {\n",
       "        vertical-align: middle;\n",
       "    }\n",
       "\n",
       "    .dataframe tbody tr th {\n",
       "        vertical-align: top;\n",
       "    }\n",
       "\n",
       "    .dataframe thead th {\n",
       "        text-align: right;\n",
       "    }\n",
       "</style>\n",
       "<table border=\"1\" class=\"dataframe\">\n",
       "  <thead>\n",
       "    <tr style=\"text-align: right;\">\n",
       "      <th></th>\n",
       "      <th>intent_model</th>\n",
       "    </tr>\n",
       "  </thead>\n",
       "  <tbody>\n",
       "    <tr>\n",
       "      <th>0</th>\n",
       "      <td>{'context': 'appointment', 'utterances': ['I n...</td>\n",
       "    </tr>\n",
       "    <tr>\n",
       "      <th>1</th>\n",
       "      <td>{'context': 'insurance', 'utterances': ['Need ...</td>\n",
       "    </tr>\n",
       "    <tr>\n",
       "      <th>2</th>\n",
       "      <td>{'context': 'lab', 'utterances': ['Need to und...</td>\n",
       "    </tr>\n",
       "  </tbody>\n",
       "</table>\n",
       "</div>"
      ],
      "text/plain": [
       "                                        intent_model\n",
       "0  {'context': 'appointment', 'utterances': ['I n...\n",
       "1  {'context': 'insurance', 'utterances': ['Need ...\n",
       "2  {'context': 'lab', 'utterances': ['Need to und..."
      ]
     },
     "execution_count": 3,
     "metadata": {},
     "output_type": "execute_result"
    }
   ],
   "source": [
    "inp_data.head()"
   ]
  },
  {
   "cell_type": "code",
   "execution_count": 8,
   "metadata": {},
   "outputs": [],
   "source": [
    "#from pandas.io.json import json_normalize\n",
    "df = pd.json_normalize(inp_data[\"intent_model\"])"
   ]
  },
  {
   "cell_type": "code",
   "execution_count": 9,
   "metadata": {},
   "outputs": [
    {
     "data": {
      "text/html": [
       "<div>\n",
       "<style scoped>\n",
       "    .dataframe tbody tr th:only-of-type {\n",
       "        vertical-align: middle;\n",
       "    }\n",
       "\n",
       "    .dataframe tbody tr th {\n",
       "        vertical-align: top;\n",
       "    }\n",
       "\n",
       "    .dataframe thead th {\n",
       "        text-align: right;\n",
       "    }\n",
       "</style>\n",
       "<table border=\"1\" class=\"dataframe\">\n",
       "  <thead>\n",
       "    <tr style=\"text-align: right;\">\n",
       "      <th></th>\n",
       "      <th>context</th>\n",
       "      <th>utterances</th>\n",
       "    </tr>\n",
       "  </thead>\n",
       "  <tbody>\n",
       "    <tr>\n",
       "      <th>0</th>\n",
       "      <td>appointment</td>\n",
       "      <td>[I need help with doctor appointment, I am loo...</td>\n",
       "    </tr>\n",
       "    <tr>\n",
       "      <th>1</th>\n",
       "      <td>insurance</td>\n",
       "      <td>[Need help with insurance claim, What are the ...</td>\n",
       "    </tr>\n",
       "    <tr>\n",
       "      <th>2</th>\n",
       "      <td>lab</td>\n",
       "      <td>[Need to undergo diagnosis, How much is the la...</td>\n",
       "    </tr>\n",
       "  </tbody>\n",
       "</table>\n",
       "</div>"
      ],
      "text/plain": [
       "       context                                         utterances\n",
       "0  appointment  [I need help with doctor appointment, I am loo...\n",
       "1    insurance  [Need help with insurance claim, What are the ...\n",
       "2          lab  [Need to undergo diagnosis, How much is the la..."
      ]
     },
     "execution_count": 9,
     "metadata": {},
     "output_type": "execute_result"
    }
   ],
   "source": [
    "df"
   ]
  },
  {
   "cell_type": "code",
   "execution_count": 96,
   "metadata": {},
   "outputs": [],
   "source": [
    "def getContext(match_string):\n",
    "    for idx, i in enumerate(df['utterances']):\n",
    "        if match_string in i:\n",
    "            return df['context'][idx]\n",
    "    return None"
   ]
  },
  {
   "cell_type": "code",
   "execution_count": 97,
   "metadata": {},
   "outputs": [
    {
     "name": "stdout",
     "output_type": "stream",
     "text": [
      "lab\n"
     ]
    }
   ],
   "source": [
    "print(getContext('Need to undergo diagnosis'))"
   ]
  },
  {
   "cell_type": "code",
   "execution_count": 12,
   "metadata": {},
   "outputs": [
    {
     "data": {
      "text/plain": [
       "['I need help with doctor appointment',\n",
       " 'I am looking for appointment',\n",
       " 'Is the doctor available today',\n",
       " 'Need help with insurance claim',\n",
       " 'What are the insurance tie ups available',\n",
       " 'I need claim settlement',\n",
       " 'Need to undergo diagnosis',\n",
       " 'How much is the lab test',\n",
       " 'When can I get my lab report']"
      ]
     },
     "execution_count": 12,
     "metadata": {},
     "output_type": "execute_result"
    }
   ],
   "source": [
    "flatten_utterances_corpus = [val for sublist in df['utterances'] for val in sublist]\n",
    "flatten_utterances_corpus"
   ]
  },
  {
   "cell_type": "code",
   "execution_count": 13,
   "metadata": {},
   "outputs": [],
   "source": [
    "supported_diseases = ['fever', 'cardiac', 'inflammation', 'throat pain', 'heart burn', 'head ache']"
   ]
  },
  {
   "cell_type": "code",
   "execution_count": 20,
   "metadata": {},
   "outputs": [
    {
     "data": {
      "text/plain": [
       "('fever', 90)"
      ]
     },
     "execution_count": 20,
     "metadata": {},
     "output_type": "execute_result"
    }
   ],
   "source": [
    "detected_disease = process.extract('I am suffering from fever', supported_diseases)[0]\n",
    "detected_disease"
   ]
  },
  {
   "cell_type": "code",
   "execution_count": 21,
   "metadata": {},
   "outputs": [],
   "source": [
    "def detected_disease(input_query):\n",
    "    det = process.extract(input_query, supported_diseases)\n",
    "    if(det[0][1] > 50):\n",
    "        return det[0][0]\n",
    "    else:\n",
    "        return None"
   ]
  },
  {
   "cell_type": "code",
   "execution_count": 25,
   "metadata": {},
   "outputs": [
    {
     "name": "stdout",
     "output_type": "stream",
     "text": [
      "fever\n"
     ]
    }
   ],
   "source": [
    "print(detected_disease(\"I am suffering from fever\"))"
   ]
  },
  {
   "cell_type": "code",
   "execution_count": 28,
   "metadata": {},
   "outputs": [],
   "source": [
    "nlp = spacy.load('en_core_web_sm')"
   ]
  },
  {
   "cell_type": "code",
   "execution_count": 37,
   "metadata": {},
   "outputs": [],
   "source": [
    "def get_time(doc):\n",
    "    if doc.ents:\n",
    "        for ent in doc.ents:\n",
    "            if(ent.label_ == 'DATE'):\n",
    "                duration = ent.text\n",
    "                return duration\n",
    "            return None\n",
    "    else:\n",
    "        return None"
   ]
  },
  {
   "cell_type": "code",
   "execution_count": 39,
   "metadata": {},
   "outputs": [
    {
     "name": "stdout",
     "output_type": "stream",
     "text": [
      "3 days\n"
     ]
    }
   ],
   "source": [
    "print(get_time(nlp(\"suffering from 3 days\")))"
   ]
  },
  {
   "cell_type": "code",
   "execution_count": 40,
   "metadata": {},
   "outputs": [],
   "source": [
    "from sklearn.metrics.pairwise import cosine_similarity"
   ]
  },
  {
   "cell_type": "code",
   "execution_count": 41,
   "metadata": {},
   "outputs": [],
   "source": [
    "stopwords_list = stopwords.words('english')"
   ]
  },
  {
   "cell_type": "code",
   "execution_count": 72,
   "metadata": {},
   "outputs": [],
   "source": [
    "#vectorizer = CountVectorizer(max_features=3000, stop_words=stopwords_list)\n",
    "vectorizer = TfidfVectorizer(max_features=3000, stop_words=stopwords_list)"
   ]
  },
  {
   "cell_type": "code",
   "execution_count": 73,
   "metadata": {},
   "outputs": [],
   "source": [
    "X = vectorizer.fit_transform(flatten_utterances_corpus)"
   ]
  },
  {
   "cell_type": "code",
   "execution_count": 74,
   "metadata": {},
   "outputs": [],
   "source": [
    "count_dense = X.todense()"
   ]
  },
  {
   "cell_type": "code",
   "execution_count": 75,
   "metadata": {},
   "outputs": [
    {
     "data": {
      "text/plain": [
       "0.2629108679190545"
      ]
     },
     "execution_count": 75,
     "metadata": {},
     "output_type": "execute_result"
    }
   ],
   "source": [
    "cosine_similarity(count_dense[7,:], count_dense[8,:])[0][0]"
   ]
  },
  {
   "cell_type": "code",
   "execution_count": 83,
   "metadata": {},
   "outputs": [],
   "source": [
    "test_query = vectorizer.transform([\"Need to undergo diagnosis\"])"
   ]
  },
  {
   "cell_type": "code",
   "execution_count": 88,
   "metadata": {},
   "outputs": [
    {
     "data": {
      "text/plain": [
       "1.0"
      ]
     },
     "execution_count": 88,
     "metadata": {},
     "output_type": "execute_result"
    }
   ],
   "source": [
    "cosine_similarity(test_query, count_dense[6,:])[0][0]"
   ]
  },
  {
   "cell_type": "code",
   "execution_count": 92,
   "metadata": {},
   "outputs": [],
   "source": [
    "def getContext_details(input_query):\n",
    "    input_query_vector = vectorizer.transform([input_query])\n",
    "    max_score = 0\n",
    "    best_match = None\n",
    "    context = None\n",
    "    for ind, vector in enumerate(count_dense):\n",
    "        sim_score = cosine_similarity(input_query_vector, count_dense[ind,:])[0][0]\n",
    "        if sim_score>max_score:\n",
    "            max_score = sim_score\n",
    "            best_match = flatten_utterances_corpus[ind]\n",
    "            context = getContext(best_match)\n",
    "    return max_score, best_match, context\n",
    "    "
   ]
  },
  {
   "cell_type": "code",
   "execution_count": 102,
   "metadata": {},
   "outputs": [
    {
     "name": "stdout",
     "output_type": "stream",
     "text": [
      "(0.5781259620072153, 'I need claim settlement', 'insurance')\n"
     ]
    }
   ],
   "source": [
    "print(getContext_details(\"I want to settle claim\"))"
   ]
  },
  {
   "cell_type": "code",
   "execution_count": 103,
   "metadata": {},
   "outputs": [],
   "source": [
    "def show_ents(doc):\n",
    "    global name\n",
    "    global age\n",
    "    if doc.ents:\n",
    "        for ent in doc.ents:\n",
    "            if(ent.label_ == 'PERSON'):\n",
    "                name = ent.text\n",
    "            if(ent.label_ == 'DATE'):\n",
    "                age = ent.text\n",
    "        return True\n",
    "    else:\n",
    "        return False"
   ]
  },
  {
   "cell_type": "code",
   "execution_count": 115,
   "metadata": {},
   "outputs": [],
   "source": [
    "name = None\n",
    "age = None\n",
    "flag = True\n",
    "date = None\n",
    "detected_dis = None\n",
    "symptoms_duration = None\n",
    "context = None"
   ]
  },
  {
   "cell_type": "code",
   "execution_count": 116,
   "metadata": {},
   "outputs": [
    {
     "name": "stdin",
     "output_type": "stream",
     "text": [
      "User >  hi\n"
     ]
    },
    {
     "name": "stdout",
     "output_type": "stream",
     "text": [
      "bot > :)  Hi, Please tell me your name and age\n"
     ]
    },
    {
     "name": "stdin",
     "output_type": "stream",
     "text": [
      "User >  I am Priya and I am 34 years old\n"
     ]
    },
    {
     "name": "stdout",
     "output_type": "stream",
     "text": [
      "bot > :)  Hi, Priya  How can I help you today\n"
     ]
    },
    {
     "name": "stdin",
     "output_type": "stream",
     "text": [
      "User >  I am looking for doctor appointment\n"
     ]
    },
    {
     "name": "stdout",
     "output_type": "stream",
     "text": [
      "bot > :)  Sure, Can you tell me more about your symptoms\n"
     ]
    },
    {
     "name": "stdin",
     "output_type": "stream",
     "text": [
      "User >  Sure, I am suffering from high fevre\n"
     ]
    },
    {
     "name": "stdout",
     "output_type": "stream",
     "text": [
      "bot > :)  Okay, could you please tell me from how long you are observing the symptoms\n"
     ]
    },
    {
     "name": "stdin",
     "output_type": "stream",
     "text": [
      "User >  I think from around 3 days\n"
     ]
    },
    {
     "name": "stdout",
     "output_type": "stream",
     "text": [
      "bot > :)  Thank you for the information, Can you tell me what date you are looking for appointment\n"
     ]
    },
    {
     "name": "stdin",
     "output_type": "stream",
     "text": [
      "User >  I need appointment for 15-07-2020\n"
     ]
    },
    {
     "name": "stdout",
     "output_type": "stream",
     "text": [
      "bot > :)  Noted, your appointment is confirmed for the day 15-07-2020\n"
     ]
    },
    {
     "name": "stdin",
     "output_type": "stream",
     "text": [
      "User >  Thank You\n"
     ]
    },
    {
     "name": "stdout",
     "output_type": "stream",
     "text": [
      "Here is the summary \n",
      " Name and age :  Priya 34 years old \n",
      " Symptoms:  fever \n",
      " Symptoms Duration:  around 3 days \n",
      " Appointment Date:  15-07-2020\n",
      "c ya soon!\n"
     ]
    }
   ],
   "source": [
    "while flag:\n",
    "    query = input(\"User > \")\n",
    "    if(query =='exit'):\n",
    "         flag=False\n",
    "    elif name:\n",
    "        if(context):\n",
    "            if(detected_dis):\n",
    "                if(symptoms_duration):\n",
    "                    if(date):\n",
    "                        print('Here is the summary \\n Name and age : ',name,age,'\\n Symptoms: ', detected_dis, '\\n Symptoms Duration: ',symptoms_duration, '\\n Appointment Date: ',date)\n",
    "                        print('c ya soon!')\n",
    "                        flag=False \n",
    "                    else:\n",
    "                        date = get_time(nlp(query))\n",
    "                        if(date):\n",
    "                            print(\"bot > :) \", 'Noted, your appointment is confirmed for the day', date)\n",
    "                        else:\n",
    "                            print(\"bot > :) \", 'Thank you for the information, Can you tell me what date you are looking for appointment')                \n",
    "                        \n",
    "                else:\n",
    "                    symptoms_duration = get_time(nlp(query))\n",
    "                    if(symptoms_duration):\n",
    "                        print(\"bot > :) \", 'Thank you for the information, Can you tell me what date you are looking for appointment')\n",
    "                    else:\n",
    "                        print(\"bot > :) \", 'Okay, could you please tell me from how long you are observing the symptoms')\n",
    "                                                             \n",
    "            else:\n",
    "                detected_dis = detected_disease(query)\n",
    "                if(detected_dis):\n",
    "                    print(\"bot > :) \", 'Okay, could you please tell me from how long you are observing the symptoms')\n",
    "                else:\n",
    "                    print(\"bot > :) \", 'Can you tell me more about your symptoms')\n",
    "                    \n",
    "                \n",
    "        else:\n",
    "            _,_,context = getContext_details(query)\n",
    "            if(context):\n",
    "                print(\"bot > :) \", 'Sure, Can you tell me more about your symptoms')\n",
    "            else:\n",
    "                print(\"bot > :) \", 'I am not sure, how can I help you with your ask. I am still learning and may be next time I will be able to answer you.')\n",
    "                     \n",
    "            \n",
    "    else:\n",
    "        if(show_ents(nlp(query))):\n",
    "            print(\"bot > :) \", 'Hi,' ,name,' How can I help you today' )\n",
    "        else:\n",
    "            print(\"bot > :) \", 'Hi, Please tell me your name and age' )"
   ]
  },
  {
   "cell_type": "code",
   "execution_count": null,
   "metadata": {},
   "outputs": [],
   "source": []
  }
 ],
 "metadata": {
  "kernelspec": {
   "display_name": "Python 3",
   "language": "python",
   "name": "python3"
  },
  "language_info": {
   "codemirror_mode": {
    "name": "ipython",
    "version": 3
   },
   "file_extension": ".py",
   "mimetype": "text/x-python",
   "name": "python",
   "nbconvert_exporter": "python",
   "pygments_lexer": "ipython3",
   "version": "3.6.8"
  }
 },
 "nbformat": 4,
 "nbformat_minor": 4
}
